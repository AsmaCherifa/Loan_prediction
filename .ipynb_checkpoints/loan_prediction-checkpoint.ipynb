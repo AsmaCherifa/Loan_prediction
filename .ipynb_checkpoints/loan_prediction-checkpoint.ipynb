{
 "cells": [
  {
   "cell_type": "code",
   "execution_count": null,
   "id": "1fd8c7a4-fb83-4161-8f55-435574d05f50",
   "metadata": {},
   "outputs": [],
   "source": [
    "import numpy as np\n",
    "import pandas as pd\n",
    "import seaborn as sns\n",
    "import matplotlib.pyplot as plt\n",
    "from sklearn.model_selection import train_test_split\n",
    "from sklearn.metrics import accuracy_score\n",
    "from sklearn.model_selection import train_test_split\n",
    "from sklearn.linear_model import LogisticRegression"
   ]
  },
  {
   "cell_type": "code",
   "execution_count": null,
   "id": "34926dba-8397-4f77-a625-fdbbca990ca2",
   "metadata": {},
   "outputs": [],
   "source": [
    "loan_dataset = pd.read_csv('loan_prediction.csv')"
   ]
  },
  {
   "cell_type": "code",
   "execution_count": null,
   "id": "e23bf3b6-54c6-45b7-8054-86c82ed8cc30",
   "metadata": {},
   "outputs": [],
   "source": [
    "#display 5 first rows\n",
    "loan_dataset.head()"
   ]
  },
  {
   "cell_type": "code",
   "execution_count": null,
   "id": "facf3bf1-8dfa-4432-993d-ec60a1432171",
   "metadata": {},
   "outputs": [],
   "source": [
    "# number of rows and columns\n",
    "loan_dataset.shape"
   ]
  },
  {
   "cell_type": "code",
   "execution_count": null,
   "id": "452bae85-ee13-4de7-8710-b747a7ea9fdb",
   "metadata": {},
   "outputs": [],
   "source": [
    "# statistical measures\n",
    "loan_dataset.describe()"
   ]
  },
  {
   "cell_type": "code",
   "execution_count": null,
   "id": "92ff8178-693d-4165-8291-e3fb7776552f",
   "metadata": {},
   "outputs": [],
   "source": [
    "# number of missing values in each column\n",
    "loan_dataset.isnull().sum()"
   ]
  },
  {
   "cell_type": "code",
   "execution_count": null,
   "id": "81aaff51-93eb-4188-b961-e6058b5f4957",
   "metadata": {},
   "outputs": [],
   "source": [
    "# dropping the missing values\n",
    "loan_dataset = loan_dataset.dropna()"
   ]
  },
  {
   "cell_type": "code",
   "execution_count": null,
   "id": "39a10234-7018-4f88-91f5-eecf89ee8db5",
   "metadata": {},
   "outputs": [],
   "source": [
    "# check number of missing values in each column\n",
    "loan_dataset.isnull().sum()"
   ]
  },
  {
   "cell_type": "code",
   "execution_count": null,
   "id": "3df040b1-bd86-4be2-b217-f2a74258cb9f",
   "metadata": {},
   "outputs": [],
   "source": [
    "# label encoding\n",
    "loan_dataset.replace({\"Loan_Status\":{'N':0,'Y':1}},inplace=True)"
   ]
  },
  {
   "cell_type": "code",
   "execution_count": null,
   "id": "eb2edf12-bb64-4331-8364-479d20f71190",
   "metadata": {},
   "outputs": [],
   "source": [
    "loan_dataset.head()"
   ]
  },
  {
   "cell_type": "code",
   "execution_count": null,
   "id": "eb9ccf65-aba0-4d7d-a01a-308eed88c706",
   "metadata": {},
   "outputs": [],
   "source": [
    "# Dependent column values\n",
    "loan_dataset['Dependents'].value_counts()"
   ]
  },
  {
   "cell_type": "code",
   "execution_count": null,
   "id": "24175310-edce-40ec-bece-dac3d7eec5ba",
   "metadata": {},
   "outputs": [],
   "source": [
    "# replacing the value of 3+ to 4\n",
    "loan_dataset = loan_dataset.replace(to_replace='3+', value=4)"
   ]
  },
  {
   "cell_type": "code",
   "execution_count": null,
   "id": "2c3a5b21-8e2d-4032-a698-e5691c30a021",
   "metadata": {},
   "outputs": [],
   "source": [
    "# dependent values\n",
    "loan_dataset['Dependents'].value_counts()"
   ]
  },
  {
   "cell_type": "code",
   "execution_count": null,
   "id": "c48cddb9-1ca9-4cf4-92a4-16772906a720",
   "metadata": {},
   "outputs": [],
   "source": [
    "# Data Visualization : education & Loan Status\n",
    "sns.countplot(x='Education',hue='Loan_Status',data=loan_dataset)"
   ]
  },
  {
   "cell_type": "code",
   "execution_count": null,
   "id": "e042418a-c5ae-4218-9fcf-107fce15d0ef",
   "metadata": {},
   "outputs": [],
   "source": [
    "# marital status & Loan Status\n",
    "sns.countplot(x='Married',hue='Loan_Status',data=loan_dataset)\n",
    "\n"
   ]
  },
  {
   "cell_type": "code",
   "execution_count": null,
   "id": "768aa2fe-4d22-4a23-87cc-64d3b4fed67e",
   "metadata": {},
   "outputs": [],
   "source": [
    "# convert categorical columns to numerical values\n",
    "loan_dataset.replace({'Married':{'No':0,'Yes':1},'Gender':{'Male':1,'Female':0},'Self_Employed':{'No':0,'Yes':1},\n",
    "                      'Property_Area':{'Rural':0,'Semiurban':1,'Urban':2},'Education':{'Graduate':1,'Not Graduate':0}},inplace=True)"
   ]
  },
  {
   "cell_type": "code",
   "execution_count": null,
   "id": "54156bf0-839b-478d-b091-fc3f1a6f8e48",
   "metadata": {},
   "outputs": [],
   "source": [
    "loan_dataset.head()"
   ]
  },
  {
   "cell_type": "code",
   "execution_count": null,
   "id": "6381a58d-0783-4c69-8048-8f60d34e3767",
   "metadata": {},
   "outputs": [],
   "source": [
    "# separating the data and label\n",
    "# X --> features (input)  Y --> label (output)\n",
    "X = loan_dataset.drop(columns=['Loan_ID','Loan_Status'],axis=1)\n",
    "Y = loan_dataset['Loan_Status']\n",
    "#print(X)\n",
    "Y.head()"
   ]
  },
  {
   "cell_type": "code",
   "execution_count": null,
   "id": "0c4c4736-4350-4bc9-a735-d19af18ba7d9",
   "metadata": {},
   "outputs": [],
   "source": [
    "#Train Test Split\n",
    "X_train, X_test,Y_train,Y_test = train_test_split(X,Y,test_size=0.1,stratify=Y,random_state=2)"
   ]
  },
  {
   "cell_type": "code",
   "execution_count": null,
   "id": "a4e6f4c8-db04-4e6d-9b77-b1c7d473e27f",
   "metadata": {},
   "outputs": [],
   "source": [
    "print(X.shape, X_train.shape, X_test.shape)"
   ]
  },
  {
   "cell_type": "code",
   "execution_count": null,
   "id": "695791a7-37eb-4bb7-95c1-deb90fdf5c7a",
   "metadata": {},
   "outputs": [],
   "source": [
    "#Logistic Regression (LR)\n",
    "model = LogisticRegression(max_iter=1000)  # Increase the value based on your needs\n",
    "model.fit(X_train,Y_train)\n",
    "print (\"(X_test)\" ,X_test.head())\n",
    "lr_prediction = model.predict(X_test)\n",
    "print('Logistic Regression accuracy = ', accuracy_score(lr_prediction,Y_test))"
   ]
  },
  {
   "cell_type": "code",
   "execution_count": null,
   "id": "23d450a2-ab58-475b-b229-ba2fcfcc1ef1",
   "metadata": {
    "scrolled": true
   },
   "outputs": [],
   "source": [
    "print(\"Y predicted\",lr_prediction)\n",
    "print(\"Y test\",Y_test)"
   ]
  },
  {
   "cell_type": "code",
   "execution_count": null,
   "id": "efe3de98-b065-49cc-a44f-175a75b7f076",
   "metadata": {},
   "outputs": [],
   "source": [
    "import pickle\n",
    "with open('logistic_regression_model.pkl', 'wb') as file:\n",
    "    pickle.dump(model, file)\n",
    "with open('logistic_regression_model.pkl', 'rb') as f:\n",
    "    k = pickle.load(f)"
   ]
  },
  {
   "cell_type": "code",
   "execution_count": null,
   "id": "1e533fbd-f625-4a2c-86e1-20e5b2e132c2",
   "metadata": {},
   "outputs": [],
   "source": [
    "cy = k.predict([[0, 0, 0, 0, 0, 0, 0, 0, 66660, 0, 0]])\n",
    "print(cy)"
   ]
  }
 ],
 "metadata": {
  "kernelspec": {
   "display_name": "Python 3 (ipykernel)",
   "language": "python",
   "name": "python3"
  },
  "language_info": {
   "codemirror_mode": {
    "name": "ipython",
    "version": 3
   },
   "file_extension": ".py",
   "mimetype": "text/x-python",
   "name": "python",
   "nbconvert_exporter": "python",
   "pygments_lexer": "ipython3",
   "version": "3.11.3"
  }
 },
 "nbformat": 4,
 "nbformat_minor": 5
}
